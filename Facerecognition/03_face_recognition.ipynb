{
 "cells": [
  {
   "cell_type": "code",
   "execution_count": 1,
   "metadata": {},
   "outputs": [
    {
     "name": "stdout",
     "output_type": "stream",
     "text": [
      "[INFO] Found 0 Faces!\n",
      "[INFO] Image faces_detected.jpg written to filesystem:  True\n"
     ]
    }
   ],
   "source": [
    "import cv2\n",
    "import numpy as np\n",
    "import os \n",
    "recognizer = cv2.face.LBPHFaceRecognizer_create()\n",
    "recognizer.read('trainer/trainer.yml')\n",
    "cascadePath = \"haarcascade_frontalface_default.xml\"\n",
    "faceCascade = cv2.CascadeClassifier(cascadePath);\n",
    "font = cv2.FONT_HERSHEY_SIMPLEX\n",
    "#iniciate id counter\n",
    "id = 0\n",
    "cam = cv2.VideoCapture(0)\n",
    "# names related to ids: example ==> Marcelo: id=1,  etc\n",
    "names = ['None', 'Parth', 'Niti Mam', 'Parth1', 'SAMMRIDH', 'UJJWAL','DGFGFG','UJJ','NITI11','sarita mam'] \n",
    "# Initialize and start realtime video capture\n",
    "minW = 0.1*cam.get(3)\n",
    "minH = 0.1*cam.get(4)\n",
    "return_value, image = cam.read()\n",
    "cv2.imwrite('opencv.jpg', image)\n",
    "del(cam)\n",
    "imagePath = \"opencv.jpg\"\n",
    "\n",
    "img = cv2.imread(imagePath)\n",
    "gray = cv2.cvtColor(img, cv2.COLOR_BGR2GRAY)\n",
    "\n",
    "faceCascade = cv2.CascadeClassifier(cv2.data.haarcascades + \"haarcascade_frontalface_default.xml\")\n",
    "faces = faceCascade.detectMultiScale(\n",
    "    gray,\n",
    "    scaleFactor=1.3,\n",
    "    minNeighbors=3,\n",
    "    minSize=(30, 30)\n",
    ")\n",
    "\n",
    "print(\"[INFO] Found {0} Faces!\".format(len(faces)))\n",
    "\n",
    "for (x, y, w, h) in faces:\n",
    "    cv2.rectangle(img, (x, y), (x + w, y + h), (0, 255, 0), 2)\n",
    "    id, confidence = recognizer.predict(gray[y:y+h,x:x+w])\n",
    "\n",
    "        # If confidence is less them 100 ==> \"0\" : perfect match \n",
    "    if (confidence < 100):\n",
    "        id = names[id]\n",
    "        confidence = \"  {0}%\".format(round(100 - confidence))\n",
    "    else:\n",
    "        id = \"unknown\"\n",
    "        confidence = \"  {0}%\".format(round(100 - confidence))\n",
    "        \n",
    "    cv2.putText(\n",
    "                img, \n",
    "                str(id), \n",
    "                (x+5,y-5), \n",
    "                font, \n",
    "                1, \n",
    "                (255,255,255), \n",
    "                2\n",
    "                )\n",
    "    cv2.putText(\n",
    "                img, \n",
    "                str(confidence), \n",
    "                (x+5,y+h-5), \n",
    "        \n",
    "                font, \n",
    "                1, \n",
    "                (255,255,0), \n",
    "                1\n",
    "                )  \n",
    "    \n",
    "status = cv2.imwrite('faces_detected.jpg', img)\n",
    "imagePath1 = \"faces_detected.jpg\"\n",
    "\n",
    "image1 = cv2.imread(imagePath1)\n",
    "cv2.imshow('cam',image1)\n",
    "print(\"[INFO] Image faces_detected.jpg written to filesystem: \", status)"
   ]
  },
  {
   "cell_type": "code",
   "execution_count": null,
   "metadata": {},
   "outputs": [],
   "source": []
  }
 ],
 "metadata": {
  "kernelspec": {
   "display_name": "Python 3",
   "language": "python",
   "name": "python3"
  },
  "language_info": {
   "codemirror_mode": {
    "name": "ipython",
    "version": 3
   },
   "file_extension": ".py",
   "mimetype": "text/x-python",
   "name": "python",
   "nbconvert_exporter": "python",
   "pygments_lexer": "ipython3",
   "version": "3.7.4"
  }
 },
 "nbformat": 4,
 "nbformat_minor": 2
}
